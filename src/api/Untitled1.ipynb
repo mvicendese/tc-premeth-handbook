{
 "cells": [
  {
   "cell_type": "code",
   "execution_count": 1,
   "metadata": {},
   "outputs": [],
   "source": [
    "import os\n",
    "\n",
    "os.environ['DJANGO_ALLOW_ASYNC_UNSAFE'] = 'true'"
   ]
  },
  {
   "cell_type": "code",
   "execution_count": 4,
   "metadata": {},
   "outputs": [
    {
     "name": "stdout",
     "output_type": "stream",
     "text": [
      "93f1d80e-09fe-4e2d-9c74-8ea71f92a122\n",
      "[UUID('8f6a7fd1-93a0-411a-956c-7bb33a78ba5c'), UUID('bbe902e6-798c-490e-9e6d-b78f34696f7e')]\n"
     ]
    }
   ],
   "source": [
    "from api.base.models import Comment\n",
    "comment = Comment.objects.first()\n",
    "print(comment.created_by.id)\n",
    "\n",
    "teachers = Teacher.objects.all()\n",
    "\n",
    "print([teacher.pk for teacher in teachers])"
   ]
  },
  {
   "cell_type": "code",
   "execution_count": 7,
   "metadata": {},
   "outputs": [
    {
     "name": "stdout",
     "output_type": "stream",
     "text": [
      "8f6a7fd1-93a0-411a-956c-7bb33a78ba5c\n"
     ]
    }
   ],
   "source": [
    "print(comment.created_by.teacher.id)"
   ]
  },
  {
   "cell_type": "code",
   "execution_count": null,
   "metadata": {},
   "outputs": [],
   "source": []
  }
 ],
 "metadata": {
  "kernelspec": {
   "display_name": "Django Shell-Plus",
   "language": "python",
   "name": "django_extensions"
  },
  "language_info": {
   "codemirror_mode": {
    "name": "ipython",
    "version": 3
   },
   "file_extension": ".py",
   "mimetype": "text/x-python",
   "name": "python",
   "nbconvert_exporter": "python",
   "pygments_lexer": "ipython3",
   "version": "3.6.9"
  }
 },
 "nbformat": 4,
 "nbformat_minor": 4
}
